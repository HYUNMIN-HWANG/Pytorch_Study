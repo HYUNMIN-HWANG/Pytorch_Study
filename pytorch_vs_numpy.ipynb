{
 "cells": [
  {
   "cell_type": "markdown",
   "source": [
    "# Numpy vs PyTorch for Linear Algebra \r\n",
    "[link](https://rickwierenga.com/blog/machine%20learning/numpy-vs-pytorch-linalg.html)"
   ],
   "metadata": {}
  },
  {
   "cell_type": "markdown",
   "source": [
    "## Why PyTorch?\r\n",
    "- GPU acceleration\r\n",
    "-  integration with other parts of the PyTorch framework\r\n",
    "- mainly used in deep learning which requires heavy matrix computation\r\n",
    "- two arguments : device_type (whether the computation happens on CPU or GPU) and the requires_grad (which is used to compute the derivatives)."
   ],
   "metadata": {}
  },
  {
   "cell_type": "code",
   "execution_count": 1,
   "source": [
    "import torch"
   ],
   "outputs": [],
   "metadata": {}
  },
  {
   "cell_type": "markdown",
   "source": [
    "## Why Numpy?\r\n",
    "- quick experimentation and small projects\r\n",
    "- light weight framework\r\n",
    "- mainly used in typical machine learning algorithms"
   ],
   "metadata": {}
  },
  {
   "cell_type": "code",
   "execution_count": 2,
   "source": [
    "import numpy as np"
   ],
   "outputs": [],
   "metadata": {}
  },
  {
   "cell_type": "markdown",
   "source": [
    "## Using Both"
   ],
   "metadata": {}
  },
  {
   "cell_type": "code",
   "execution_count": null,
   "source": [
    "# Numpy -> Pytorch\r\n",
    "tensor = torch.from_numpy(np_array)\r\n",
    "\r\n",
    "# Pytorch -> Numpy\r\n",
    "ndarray = tensor.numpy()"
   ],
   "outputs": [],
   "metadata": {}
  },
  {
   "cell_type": "markdown",
   "source": [
    "## New tensors"
   ],
   "metadata": {}
  },
  {
   "cell_type": "code",
   "execution_count": 7,
   "source": [
    "# numpy\r\n",
    "zeros = np.zeros((4,4))\r\n",
    "ones = np.ones((4,4))\r\n",
    "random = np.random.random((4,4))\r\n",
    "\r\n",
    "print(zeros)\r\n",
    "print(ones)\r\n",
    "print(random)\r\n",
    "\r\n",
    "print(\"--------------\")\r\n",
    "# PyTorch\r\n",
    "zeros = torch.zeros(4,4)\r\n",
    "ones = torch.ones(4,4)\r\n",
    "random = torch.rand(4,4)\r\n",
    "\r\n",
    "print(zeros)\r\n",
    "print(ones)\r\n",
    "print(random)\r\n"
   ],
   "outputs": [
    {
     "output_type": "stream",
     "name": "stdout",
     "text": [
      "[[0. 0. 0. 0.]\n",
      " [0. 0. 0. 0.]\n",
      " [0. 0. 0. 0.]\n",
      " [0. 0. 0. 0.]]\n",
      "[[1. 1. 1. 1.]\n",
      " [1. 1. 1. 1.]\n",
      " [1. 1. 1. 1.]\n",
      " [1. 1. 1. 1.]]\n",
      "[[0.84674019 0.86122292 0.47916101 0.05073224]\n",
      " [0.81579483 0.5845992  0.42265437 0.19553312]\n",
      " [0.48595474 0.45783618 0.16816105 0.047586  ]\n",
      " [0.30908543 0.29020462 0.52134135 0.08433093]]\n",
      "--------------\n",
      "tensor([[0., 0., 0., 0.],\n",
      "        [0., 0., 0., 0.],\n",
      "        [0., 0., 0., 0.],\n",
      "        [0., 0., 0., 0.]])\n",
      "tensor([[1., 1., 1., 1.],\n",
      "        [1., 1., 1., 1.],\n",
      "        [1., 1., 1., 1.],\n",
      "        [1., 1., 1., 1.]])\n",
      "tensor([[0.8511, 0.2944, 0.0356, 0.1390],\n",
      "        [0.9051, 0.0047, 0.0700, 0.6737],\n",
      "        [0.1548, 0.6376, 0.5867, 0.7869],\n",
      "        [0.7036, 0.3835, 0.4178, 0.9937]])\n"
     ]
    }
   ],
   "metadata": {}
  },
  {
   "cell_type": "markdown",
   "source": [
    "## Basic Linear Algebra\r\n",
    "### Indexing"
   ],
   "metadata": {}
  },
  {
   "cell_type": "code",
   "execution_count": null,
   "source": [
    "# Numpy\r\n",
    "# Index item\r\n",
    "array[0, 0] # returns a float\r\n",
    "\r\n",
    "# Index row\r\n",
    "array[0, :] # returns an array\r\n",
    "\r\n",
    "# Pytorch\r\n",
    "# Index item\r\n",
    "torch[0, 0] # returns a tensor\r\n",
    "\r\n",
    "# Index row\r\n",
    "torch[0, :] # returns a tensor"
   ],
   "outputs": [],
   "metadata": {}
  },
  {
   "cell_type": "markdown",
   "source": [
    "### Addition & subtraction"
   ],
   "metadata": {}
  },
  {
   "cell_type": "code",
   "execution_count": null,
   "source": [
    "# Numpy\r\n",
    "array + array2\r\n",
    "array - array2\r\n",
    "\r\n",
    "# Pytorch\r\n",
    "tensor + tensor2\r\n",
    "tensor - tensor2"
   ],
   "outputs": [],
   "metadata": {}
  },
  {
   "cell_type": "markdown",
   "source": [
    "### (Element wise) multiplication"
   ],
   "metadata": {}
  },
  {
   "cell_type": "code",
   "execution_count": null,
   "source": [
    "# Numpy\r\n",
    "# Element wise\r\n",
    "array * array\r\n",
    "\r\n",
    "# Matrix multiplication\r\n",
    "array @ array\r\n",
    "\r\n",
    "# Pytorch\r\n",
    "# Element wise\r\n",
    "tensor * tensor\r\n",
    "\r\n",
    "# Matrix multiplication\r\n",
    "tensor @ tensor"
   ],
   "outputs": [],
   "metadata": {}
  },
  {
   "cell_type": "markdown",
   "source": [
    "### Shape and dimensions"
   ],
   "metadata": {}
  },
  {
   "cell_type": "code",
   "execution_count": null,
   "source": [
    "# Numpy\r\n",
    "shap    = array.shape\r\n",
    "num_dim = array.ndim\r\n",
    "\r\n",
    "# Pytorch\r\n",
    "shape   = tensor.shape\r\n",
    "shape   = tensor.size() # equal to `.shape`\r\n",
    "num_dim = tensor.dim()"
   ],
   "outputs": [],
   "metadata": {}
  },
  {
   "cell_type": "markdown",
   "source": [
    "### Reshaping"
   ],
   "metadata": {}
  },
  {
   "cell_type": "code",
   "execution_count": null,
   "source": [
    "# Numpy\r\n",
    "new_array = array.reshape((8, 2))\r\n",
    "\r\n",
    "# Pytorch\r\n",
    "new_tensor = tensor.view(8, 2)"
   ],
   "outputs": [],
   "metadata": {}
  },
  {
   "cell_type": "markdown",
   "source": [
    "### Determinant"
   ],
   "metadata": {}
  },
  {
   "cell_type": "code",
   "execution_count": null,
   "source": [
    "# Numpy\r\n",
    "np.linalg.det(array)\r\n",
    "\r\n",
    "# Pytorch\r\n",
    "# not natively supported"
   ],
   "outputs": [],
   "metadata": {}
  },
  {
   "cell_type": "markdown",
   "source": [
    "### Inverse and Moore-Pensore inverse\r\n"
   ],
   "metadata": {}
  },
  {
   "cell_type": "code",
   "execution_count": null,
   "source": [
    "# Numpy\r\n",
    "# Inverse\r\n",
    "np.linalg.inv(array)\r\n",
    "\r\n",
    "# Moore Pensore inverse\r\n",
    "np.linalg.pinv(array)\r\n",
    "\r\n",
    "# Pytorch\r\n",
    "# Inverse\r\n",
    "tensor.inverse()\r\n",
    "\r\n",
    "# Moore Pensore inverse\r\n",
    "tensor.pinverse()"
   ],
   "outputs": [],
   "metadata": {}
  },
  {
   "cell_type": "markdown",
   "source": [
    "### Sum/mean/std\r\n",
    "These functions return floating point numbers in Numpy where PyTorch returns 1 by 1 tensors."
   ],
   "metadata": {}
  },
  {
   "cell_type": "code",
   "execution_count": null,
   "source": [
    "# Numpy\r\n",
    "# Sum\r\n",
    "array.sum()\r\n",
    "\r\n",
    "# Mean\r\n",
    "array.mean()\r\n",
    "\r\n",
    "# Standard Deviation\r\n",
    "array.std()\r\n",
    "\r\n",
    "# Pytorch\r\n",
    "# Sum\r\n",
    "tensor.sum()\r\n",
    "\r\n",
    "# Mean\r\n",
    "tensor.mean()\r\n",
    "\r\n",
    "# Standard Deviation\r\n",
    "tensor.std()"
   ],
   "outputs": [],
   "metadata": {}
  },
  {
   "cell_type": "markdown",
   "source": [
    "### Transpose"
   ],
   "metadata": {}
  },
  {
   "cell_type": "code",
   "execution_count": null,
   "source": [
    "# Numpy\r\n",
    "array.T\r\n",
    "array.transpose()\r\n",
    "\r\n",
    "# Pytorch\r\n",
    "tensor.t()"
   ],
   "outputs": [],
   "metadata": {}
  },
  {
   "cell_type": "markdown",
   "source": [
    "## Saving to disk"
   ],
   "metadata": {}
  },
  {
   "cell_type": "code",
   "execution_count": null,
   "source": [
    "# Numpy\r\n",
    "np.save('file.npy', array)\r\n",
    "np.load('file.npy')\r\n",
    "\r\n",
    "# Pytorch\r\n",
    "torch.save(tensor, 'file')\r\n",
    "torch.load('file')"
   ],
   "outputs": [],
   "metadata": {}
  },
  {
   "cell_type": "markdown",
   "source": [
    "## Using the GPU"
   ],
   "metadata": {}
  },
  {
   "cell_type": "code",
   "execution_count": null,
   "source": [
    "# put the tensor in GPU memory\r\n",
    "gpu_tensor = tensor.gpu()"
   ],
   "outputs": [],
   "metadata": {}
  }
 ],
 "metadata": {
  "orig_nbformat": 4,
  "language_info": {
   "name": "python",
   "version": "3.6.5",
   "mimetype": "text/x-python",
   "codemirror_mode": {
    "name": "ipython",
    "version": 3
   },
   "pygments_lexer": "ipython3",
   "nbconvert_exporter": "python",
   "file_extension": ".py"
  },
  "kernelspec": {
   "name": "python3",
   "display_name": "Python 3.6.5 64-bit ('pytorch': conda)"
  },
  "interpreter": {
   "hash": "00e1617900caed98bbe9cd2040dc61f2a95a81109ddebe3a289f146b162564c9"
  }
 },
 "nbformat": 4,
 "nbformat_minor": 2
}